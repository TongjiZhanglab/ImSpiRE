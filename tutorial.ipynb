{
 "cells": [
  {
   "cell_type": "markdown",
   "id": "7fb55bbc",
   "metadata": {},
   "source": [
    "# ImSpiRE: <ins>Im</ins>age-aided <ins>Sp</ins>at<ins>i</ins>al <ins>R</ins>esolution <ins>E</ins>nhancement"
   ]
  },
  {
   "cell_type": "markdown",
   "id": "481e8a4b",
   "metadata": {},
   "source": [
    "## This is a tutorial written using Jupyter Notebook."
   ]
  },
  {
   "cell_type": "markdown",
   "id": "3b2a98ea",
   "metadata": {},
   "source": [
    "### Step 1. ImSpiRE installation following the [tutorial](https://github.com/Yizhi-Zhang/ImSpiRE)."
   ]
  },
  {
   "cell_type": "markdown",
   "id": "1c199042",
   "metadata": {},
   "source": [
    "### Step 2. Input preparation"
   ]
  },
  {
   "cell_type": "markdown",
   "id": "fc6290b6",
   "metadata": {},
   "source": [
    "ImSpiRE utilizes the count file in tab-delimited format or hierarchical-data format (HDF5 or H5) and the image file in TIFF format, as well as a file containing spot coordinates as input. "
   ]
  },
  {
   "cell_type": "markdown",
   "id": "20ddedec",
   "metadata": {},
   "source": [
    "We provided a small [test dataset](https://github.com/Yizhi-Zhang/ImSpiRE/tree/master/test/test_data) containing the raw count matrix, image and spot coordinates. A CellProfiler pipeline is also included in the test dataset for use if required."
   ]
  },
  {
   "cell_type": "markdown",
   "id": "a9165fee",
   "metadata": {},
   "source": [
    "### Step 3. Operation of ImSpiRE"
   ]
  },
  {
   "cell_type": "markdown",
   "id": "7cb1a6d8",
   "metadata": {},
   "source": [
    "### 3.1 Load required packages"
   ]
  },
  {
   "cell_type": "code",
   "execution_count": null,
   "id": "64bdb555",
   "metadata": {},
   "outputs": [],
   "source": [
    "import imspire_object as imspire\n",
    "import pandas as pd\n",
    "import numpy as np\n",
    "import scanpy as sc"
   ]
  },
  {
   "cell_type": "markdown",
   "id": "5e46b18d",
   "metadata": {},
   "source": [
    "### 3.2 Custom parameters"
   ]
  },
  {
   "cell_type": "code",
   "execution_count": null,
   "id": "b52c66f9",
   "metadata": {},
   "outputs": [],
   "source": [
    "imspire_param=imspire.ImSpiRE_Parameters()"
   ]
  },
  {
   "cell_type": "code",
   "execution_count": null,
   "id": "fe97eedc",
   "metadata": {},
   "outputs": [],
   "source": [
    "imspire_param.BasicParam_InputCountFile=\"test_data/count_matrix.tsv\"\n",
    "imspire_param.BasicParam_InputDir=\"test_data/\"\n",
    "imspire_param.BasicParam_InputImageFile=\"test_data/image.tif\"\n",
    "imspire_param.BasicParam_PlatForm=\"ST\"\n",
    "imspire_param.BasicParam_Mode=2\n",
    "imspire_param.BasicParam_OutputName=\"test_output\"\n",
    "imspire_param.BasicParam_Overwriting=True\n",
    "imspire_param.CellProfilerParam_Pipeline=\"test_data/Cellprofiler_Pipeline_HE.cppipe\""
   ]
  },
  {
   "cell_type": "markdown",
   "id": "8d6b94d2",
   "metadata": {},
   "source": [
    "### 3.3 Run ImSpiRE"
   ]
  },
  {
   "cell_type": "markdown",
   "id": "9f782a70",
   "metadata": {},
   "source": [
    "#### 3.3.1 step by step"
   ]
  },
  {
   "cell_type": "code",
   "execution_count": null,
   "id": "189c6093",
   "metadata": {},
   "outputs": [],
   "source": [
    "imspire.create_folder(imspire_param.BasicParam_OutputDir,\n",
    "                      imspire_param.BasicParam_OutputName,\n",
    "                      imspire_param.BasicParam_Overwriting)"
   ]
  },
  {
   "cell_type": "code",
   "execution_count": null,
   "id": "a1969544",
   "metadata": {},
   "outputs": [],
   "source": [
    "imdata=imspire.ImSpiRE_Data()\n",
    "imdata.read_ST(imspire_param.BasicParam_InputDir, count_file=imspire_param.BasicParam_InputCountFile)"
   ]
  },
  {
   "cell_type": "code",
   "execution_count": null,
   "id": "7eb6a7e0",
   "metadata": {},
   "outputs": [],
   "source": [
    "## optional\n",
    "imdata.preprocess(min_counts=imspire_param.Threshold_MinCounts, \n",
    "                  max_counts=imspire_param.Threshold_MaxCounts, \n",
    "                  pct_counts_mt=imspire_param.Threshold_MitoPercent, \n",
    "                  min_cells=imspire_param.Threshold_MinSpot)"
   ]
  },
  {
   "cell_type": "code",
   "execution_count": null,
   "id": "550cb4c8",
   "metadata": {},
   "outputs": [],
   "source": [
    "im=imspire.ImSpiRE_HE_Image(imspire_param.BasicParam_InputImageFile,\n",
    "                            imspire_param.BasicParam_PlatForm,\n",
    "                            imspire_param.BasicParam_OutputDir,\n",
    "                            imspire_param.BasicParam_OutputName,\n",
    "                            imspire_param.FeatureParam_IterCount)"
   ]
  },
  {
   "cell_type": "code",
   "execution_count": null,
   "id": "86b3485f",
   "metadata": {},
   "outputs": [],
   "source": [
    "spot_image_output_path=f\"{imspire_param.BasicParam_OutputDir}/{imspire_param.BasicParam_OutputName}/ImageResults/SpotImage\"\n",
    "im.segment_spot_image(pos_in_tissue_filter=imdata.pos_in_tissue_filter,\n",
    "                      output_path=spot_image_output_path,\n",
    "                      crop_size=imspire_param.ImageParam_CropSize)"
   ]
  },
  {
   "cell_type": "code",
   "execution_count": null,
   "id": "10c516ea",
   "metadata": {},
   "outputs": [],
   "source": [
    "patch_image_output_path=f\"{imspire_param.BasicParam_OutputDir}/{imspire_param.BasicParam_OutputName}/ImageResults/PatchImage\"\n",
    "im.generate_patch_locations_2(pos_in_tissue=imdata.pos_in_tissue_filter,\n",
    "                              dist=imspire_param.ImageParam_PatchDist)\n",
    "im.segment_patch_image(patch_in_tissue=im.patch_in_tissue, \n",
    "                       output_path=patch_image_output_path, \n",
    "                       crop_size=imspire_param.ImageParam_CropSize)"
   ]
  },
  {
   "cell_type": "code",
   "execution_count": null,
   "id": "2a6388eb",
   "metadata": {},
   "outputs": [],
   "source": [
    "spot_cp=imspire.ImSpiRE_HE_CellProfiler(image_file_path=f\"{spot_image_output_path}\", \n",
    "                                        cellprofiler_pipeline=imspire_param.CellProfilerParam_Pipeline)\n",
    "patch_cp=imspire.ImSpiRE_HE_CellProfiler(image_file_path=f\"{patch_image_output_path}\", \n",
    "                                         cellprofiler_pipeline=imspire_param.CellProfilerParam_Pipeline)"
   ]
  },
  {
   "cell_type": "code",
   "execution_count": null,
   "id": "528fd98e",
   "metadata": {},
   "outputs": [],
   "source": [
    "spot_feature_output_path=f\"{imspire_param.BasicParam_OutputDir}/{imspire_param.BasicParam_OutputName}/FeatureResults/SpotFeature\"\n",
    "spot_cp.compute_image_features(output_path=spot_feature_output_path,\n",
    "                               number_of_kernels=imspire_param.CellProfilerParam_KernelNumber)\n",
    "spot_cp.filter_image_features(output_path=spot_feature_output_path)"
   ]
  },
  {
   "cell_type": "code",
   "execution_count": null,
   "id": "e7a6909a",
   "metadata": {},
   "outputs": [],
   "source": [
    "patch_feature_output_path=f\"{imspire_param.BasicParam_OutputDir}/{imspire_param.BasicParam_OutputName}/FeatureResults/PatchFeature\"\n",
    "patch_cp.compute_image_features(output_path=patch_feature_output_path,\n",
    "                                number_of_kernels=imspire_param.CellProfilerParam_KernelNumber)\n",
    "patch_cp.filter_image_features(output_path=patch_feature_output_path)"
   ]
  },
  {
   "cell_type": "code",
   "execution_count": null,
   "id": "f1ae9eec",
   "metadata": {},
   "outputs": [],
   "source": [
    "spot_features=spot_cp.image_features.loc[imdata.pos_in_tissue_filter.index,]\n",
    "\n",
    "patch_cp.image_features.index=patch_cp.image_features.index.astype('int')\n",
    "patch_features=patch_cp.image_features.sort_index()\n",
    "patch_features.index=list(range(patch_features.shape[0]))\n",
    "\n",
    "spot_features.to_csv(f\"{spot_feature_output_path}/Image_Features_Image_filter.txt\", sep = \"\\t\")\n",
    "patch_features.to_csv(f\"{patch_feature_output_path}/Image_Features_Image_filter.txt\", sep = \"\\t\")"
   ]
  },
  {
   "cell_type": "code",
   "execution_count": null,
   "id": "872e9fb3",
   "metadata": {},
   "outputs": [],
   "source": [
    "spot_locations=np.array(imdata.pos_in_tissue_filter.loc[:,[\"pxl_row_in_fullres\",\"pxl_col_in_fullres\"]])\n",
    "patch_locations=np.array(im.patch_in_tissue.loc[:,[\"pxl_row\",\"pxl_col\"]])"
   ]
  },
  {
   "cell_type": "code",
   "execution_count": null,
   "id": "4b28f4f0",
   "metadata": {},
   "outputs": [],
   "source": [
    "spot_feature=pd.read_csv(f\"{spot_feature_output_path}/Image_Features_Image_filter.txt\",sep=\"\\t\",index_col=0)\n",
    "patch_feature=pd.read_csv(f\"{patch_feature_output_path}/Image_Features_Image_filter.txt\",sep=\"\\t\",index_col=0)\n",
    "\n",
    "## make sure spot features and patch features have the same dimension\n",
    "spot_feature=spot_feature.dropna(axis=1)\n",
    "patch_feature=patch_feature.dropna(axis=1)\n",
    "commom_feature=list(set(spot_feature.columns).intersection(set(patch_feature.columns)))\n",
    "spot_feature = spot_feature.loc[:,commom_feature]\n",
    "patch_feature = patch_feature.loc[:,commom_feature]\n",
    "\n",
    "spot_feature=np.array(spot_feature.loc[imdata.pos_in_tissue_filter.index,])\n",
    "patch_feature=np.array(patch_feature.sort_index())"
   ]
  },
  {
   "cell_type": "code",
   "execution_count": null,
   "id": "e71245d6",
   "metadata": {},
   "outputs": [],
   "source": [
    "exp_data=imdata.adata.to_df()\n",
    "exp_data=exp_data.loc[imdata.pos_in_tissue_filter.index,]"
   ]
  },
  {
   "cell_type": "code",
   "execution_count": null,
   "id": "2e18f018",
   "metadata": {},
   "outputs": [],
   "source": [
    "ot_solver=imspire.ImSpiRE_OT_Solver(spot_locations,patch_locations,\n",
    "                                    spot_image_features=spot_feature,\n",
    "                                    patch_image_features=patch_feature,\n",
    "                                    spot_gene_expression=exp_data,\n",
    "                                    random_state=imspire_param.BasicParam_RandomState)"
   ]
  },
  {
   "cell_type": "code",
   "execution_count": null,
   "id": "a2431444",
   "metadata": {},
   "outputs": [],
   "source": [
    "ot_solver.setup_cost_matrices(alpha=imspire_param.OptimalTransportParam_Alpha,\n",
    "                              num_neighbors=imspire_param.OptimalTransportParam_NumNeighbors)\n",
    "ot_solver.solve_OT(beta=imspire_param.OptimalTransportParam_Beta, \n",
    "                   epsilon=imspire_param.OptimalTransportParam_Epsilon,\n",
    "                   numItermax=imspire_param.OptimalTransportParam_NumIterMax,\n",
    "                   verbose=imspire_param.BasicParam_Verbose)"
   ]
  },
  {
   "cell_type": "code",
   "execution_count": null,
   "id": "d39736ef",
   "metadata": {},
   "outputs": [],
   "source": [
    "exp_data_hr=imspire.compute_high_resolution_expression_profiles(exp_data,ot_solver.T)"
   ]
  },
  {
   "cell_type": "code",
   "execution_count": null,
   "id": "d737d635",
   "metadata": {},
   "outputs": [],
   "source": [
    "## output results\n",
    "im.patch_in_tissue.index=list(range(im.patch_in_tissue.shape[0]))\n",
    "im.patch_in_tissue.to_csv(f\"{imspire_param.BasicParam_OutputDir}/{imspire_param.BasicParam_OutputName}/{imspire_param.BasicParam_OutputName}_PatchLocations.txt\", sep = \"\\t\")\n",
    "\n",
    "adata_hr=sc.AnnData(exp_data_hr)\n",
    "adata_hr.write_h5ad(f\"{imspire_param.BasicParam_OutputDir}/{imspire_param.BasicParam_OutputName}/{imspire_param.BasicParam_OutputName}_ResolutionEnhancementResult.h5ad\")\n",
    "\n",
    "np.save(f\"{imspire_param.BasicParam_OutputDir}/{imspire_param.BasicParam_OutputName}/SupplementaryResults/ot_M_alpha{imspire_param.OptimalTransportParam_Alpha}_beta{imspire_param.OptimalTransportParam_Beta}_epsilon{imspire_param.OptimalTransportParam_Epsilon}.npy\",ot_solver.M)\n",
    "np.save(f\"{imspire_param.BasicParam_OutputDir}/{imspire_param.BasicParam_OutputName}/SupplementaryResults/ot_C1_alpha{imspire_param.OptimalTransportParam_Alpha}_beta{imspire_param.OptimalTransportParam_Beta}_epsilon{imspire_param.OptimalTransportParam_Epsilon}.npy\",ot_solver.C1)\n",
    "np.save(f\"{imspire_param.BasicParam_OutputDir}/{imspire_param.BasicParam_OutputName}/SupplementaryResults/ot_C2_alpha{imspire_param.OptimalTransportParam_Alpha}_beta{imspire_param.OptimalTransportParam_Beta}_epsilon{imspire_param.OptimalTransportParam_Epsilon}.npy\",ot_solver.C2)\n",
    "np.save(f\"{imspire_param.BasicParam_OutputDir}/{imspire_param.BasicParam_OutputName}/SupplementaryResults/ot_T_alpha{imspire_param.OptimalTransportParam_Alpha}_beta{imspire_param.OptimalTransportParam_Beta}_epsilon{imspire_param.OptimalTransportParam_Epsilon}.npy\",ot_solver.T)"
   ]
  },
  {
   "cell_type": "markdown",
   "id": "fe49b7e8",
   "metadata": {},
   "source": [
    "#### 3.3.2 one step"
   ]
  },
  {
   "cell_type": "code",
   "execution_count": null,
   "id": "d538dba9",
   "metadata": {},
   "outputs": [],
   "source": [
    "imspire_run=imspire.ImSpiRE(imspire_param)"
   ]
  },
  {
   "cell_type": "code",
   "execution_count": null,
   "id": "dc83187a",
   "metadata": {},
   "outputs": [],
   "source": [
    "imspire_run.run()"
   ]
  },
  {
   "cell_type": "code",
   "execution_count": null,
   "id": "f9a42d1b",
   "metadata": {},
   "outputs": [],
   "source": []
  }
 ],
 "metadata": {
  "kernelspec": {
   "display_name": "Python 3 (ipykernel)",
   "language": "python",
   "name": "python3"
  },
  "language_info": {
   "codemirror_mode": {
    "name": "ipython",
    "version": 3
   },
   "file_extension": ".py",
   "mimetype": "text/x-python",
   "name": "python",
   "nbconvert_exporter": "python",
   "pygments_lexer": "ipython3",
   "version": "3.8.16"
  },
  "toc": {
   "base_numbering": 1,
   "nav_menu": {},
   "number_sections": false,
   "sideBar": true,
   "skip_h1_title": true,
   "title_cell": "Table of Contents",
   "title_sidebar": "Contents",
   "toc_cell": false,
   "toc_position": {},
   "toc_section_display": true,
   "toc_window_display": false
  }
 },
 "nbformat": 4,
 "nbformat_minor": 5
}
